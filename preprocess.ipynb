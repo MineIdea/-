{
 "cells": [
  {
   "cell_type": "code",
   "execution_count": 1,
   "metadata": {
    "collapsed": true
   },
   "outputs": [],
   "source": [
    "import pandas as pd\n",
    "import numpy as np\n",
    "import time\n",
    "import collections\n",
    "import math\n",
    "import re"
   ]
  },
  {
   "cell_type": "code",
   "execution_count": 2,
   "metadata": {
    "collapsed": false
   },
   "outputs": [],
   "source": [
    "a1 = pd.read_excel('librarydata/201001.xlsx', header=None)\n",
    "a2 = pd.read_excel(\"librarydata/201003.xlsx\", header=None)\n",
    "a3 = pd.read_excel(\"librarydata/201004.xlsx\", header=None)\n",
    "a4 = pd.read_excel(\"librarydata/201005.xlsx\", header=None)\n",
    "a5 = pd.read_excel(\"librarydata/201006.xlsx\", header=None)\n",
    "a7 = pd.read_excel(\"librarydata/201007.xlsx\", header=None)"
   ]
  },
  {
   "cell_type": "code",
   "execution_count": 3,
   "metadata": {
    "collapsed": false
   },
   "outputs": [
    {
     "name": "stdout",
     "output_type": "stream",
     "text": [
      "<class 'pandas.core.frame.DataFrame'>\n",
      "Int64Index: 178464 entries, 0 to 21234\n",
      "Data columns (total 5 columns):\n",
      "0    178464 non-null object\n",
      "1    178464 non-null object\n",
      "2    178409 non-null object\n",
      "3    178464 non-null object\n",
      "4    178464 non-null object\n",
      "dtypes: object(5)\n",
      "memory usage: 8.2+ MB\n"
     ]
    }
   ],
   "source": [
    "#将给定的数据集拼接\n",
    "a = pd.concat([a1, a2, a3, a4, a5,a7])\n",
    "a.info()"
   ]
  },
  {
   "cell_type": "code",
   "execution_count": 10,
   "metadata": {
    "collapsed": true
   },
   "outputs": [],
   "source": [
    "a.columns = [\"name\", \"bookname\", \"category\", \"day\", \"minute\"]"
   ]
  },
  {
   "cell_type": "code",
   "execution_count": 11,
   "metadata": {
    "collapsed": false
   },
   "outputs": [
    {
     "data": {
      "text/html": [
       "<div>\n",
       "<table border=\"1\" class=\"dataframe\">\n",
       "  <thead>\n",
       "    <tr style=\"text-align: right;\">\n",
       "      <th></th>\n",
       "      <th>name</th>\n",
       "      <th>bookname</th>\n",
       "      <th>category</th>\n",
       "      <th>day</th>\n",
       "      <th>minute</th>\n",
       "    </tr>\n",
       "  </thead>\n",
       "  <tbody>\n",
       "    <tr>\n",
       "      <th>0</th>\n",
       "      <td>240093421</td>\n",
       "      <td>光辉业绩 伟人风采:细说《邓小平》</td>\n",
       "      <td>7-5051-0077-7</td>\n",
       "      <td>2010-01-04</td>\n",
       "      <td>13:50:27</td>\n",
       "    </tr>\n",
       "    <tr>\n",
       "      <th>1</th>\n",
       "      <td>206080127</td>\n",
       "      <td>电路原理.上册</td>\n",
       "      <td>7-302-01968-1</td>\n",
       "      <td>2010-01-11</td>\n",
       "      <td>13:06:09</td>\n",
       "    </tr>\n",
       "    <tr>\n",
       "      <th>2</th>\n",
       "      <td>S20060989</td>\n",
       "      <td>交流调速系统</td>\n",
       "      <td>7-111-05236-6</td>\n",
       "      <td>2010-01-05</td>\n",
       "      <td>09:04:09</td>\n",
       "    </tr>\n",
       "    <tr>\n",
       "      <th>3</th>\n",
       "      <td>S20062833</td>\n",
       "      <td>过程控制</td>\n",
       "      <td>7-302-01115-X</td>\n",
       "      <td>2010-01-11</td>\n",
       "      <td>13:46:13</td>\n",
       "    </tr>\n",
       "    <tr>\n",
       "      <th>4</th>\n",
       "      <td>S20062833</td>\n",
       "      <td>过程控制</td>\n",
       "      <td>7-302-01115-X</td>\n",
       "      <td>2010-01-11</td>\n",
       "      <td>13:46:09</td>\n",
       "    </tr>\n",
       "    <tr>\n",
       "      <th>5</th>\n",
       "      <td>S20065040</td>\n",
       "      <td>资本论.一卷,资本的生产过程</td>\n",
       "      <td>7-01-000172-3</td>\n",
       "      <td>2010-01-12</td>\n",
       "      <td>09:17:39</td>\n",
       "    </tr>\n",
       "    <tr>\n",
       "      <th>6</th>\n",
       "      <td>233090210</td>\n",
       "      <td>英语语法大全</td>\n",
       "      <td>7-5600-1003-2</td>\n",
       "      <td>2010-01-06</td>\n",
       "      <td>13:36:26</td>\n",
       "    </tr>\n",
       "    <tr>\n",
       "      <th>7</th>\n",
       "      <td>240073023</td>\n",
       "      <td>英语构词解析:前缀、后缀与词根</td>\n",
       "      <td>9071.76</td>\n",
       "      <td>2010-01-04</td>\n",
       "      <td>14:43:40</td>\n",
       "    </tr>\n",
       "    <tr>\n",
       "      <th>8</th>\n",
       "      <td>214090315</td>\n",
       "      <td>新编大学英语四级考试高分突破.词汇·语法</td>\n",
       "      <td>7-5023-3159-X</td>\n",
       "      <td>2010-01-07</td>\n",
       "      <td>14:36:29</td>\n",
       "    </tr>\n",
       "    <tr>\n",
       "      <th>9</th>\n",
       "      <td>231070515</td>\n",
       "      <td>机械制造工艺学及夹具设计</td>\n",
       "      <td>15271.053</td>\n",
       "      <td>2010-01-04</td>\n",
       "      <td>12:52:37</td>\n",
       "    </tr>\n",
       "  </tbody>\n",
       "</table>\n",
       "</div>"
      ],
      "text/plain": [
       "        name              bookname       category         day    minute\n",
       "0  240093421     光辉业绩 伟人风采:细说《邓小平》  7-5051-0077-7  2010-01-04  13:50:27\n",
       "1  206080127               电路原理.上册  7-302-01968-1  2010-01-11  13:06:09\n",
       "2  S20060989                交流调速系统  7-111-05236-6  2010-01-05  09:04:09\n",
       "3  S20062833                  过程控制  7-302-01115-X  2010-01-11  13:46:13\n",
       "4  S20062833                  过程控制  7-302-01115-X  2010-01-11  13:46:09\n",
       "5  S20065040        资本论.一卷,资本的生产过程  7-01-000172-3  2010-01-12  09:17:39\n",
       "6  233090210                英语语法大全  7-5600-1003-2  2010-01-06  13:36:26\n",
       "7  240073023       英语构词解析:前缀、后缀与词根        9071.76  2010-01-04  14:43:40\n",
       "8  214090315  新编大学英语四级考试高分突破.词汇·语法  7-5023-3159-X  2010-01-07  14:36:29\n",
       "9  231070515          机械制造工艺学及夹具设计      15271.053  2010-01-04  12:52:37"
      ]
     },
     "execution_count": 11,
     "metadata": {},
     "output_type": "execute_result"
    }
   ],
   "source": [
    "a.head(10)"
   ]
  },
  {
   "cell_type": "code",
   "execution_count": null,
   "metadata": {
    "collapsed": true
   },
   "outputs": [],
   "source": [
    "a.to_csv(\"librarydata/totaldata.csv\", encoding='utf-8')"
   ]
  },
  {
   "cell_type": "code",
   "execution_count": 4,
   "metadata": {
    "collapsed": true
   },
   "outputs": [],
   "source": [
    "#读取拼接过的数据集\n",
    "data = pd.read_csv(\"librarydata/totaldata.csv\", encoding='utf-8', index_col=0)"
   ]
  },
  {
   "cell_type": "code",
   "execution_count": 5,
   "metadata": {
    "collapsed": false
   },
   "outputs": [
    {
     "name": "stdout",
     "output_type": "stream",
     "text": [
      "借书记录： 178464\n",
      "总计书本： 53292\n",
      "总计学生： 16199\n"
     ]
    }
   ],
   "source": [
    "print(\"借书记录：\", len(data.index))\n",
    "print(\"总计书本：\",len(data[\"bookname\"].unique()))\n",
    "print(\"总计学生：\", len(data[\"name\"].unique()))"
   ]
  },
  {
   "cell_type": "code",
   "execution_count": 6,
   "metadata": {
    "collapsed": true
   },
   "outputs": [
    {
     "data": {
      "text/html": [
       "<div>\n",
       "<table border=\"1\" class=\"dataframe\">\n",
       "  <thead>\n",
       "    <tr style=\"text-align: right;\">\n",
       "      <th></th>\n",
       "      <th>name</th>\n",
       "      <th>bookname</th>\n",
       "      <th>category</th>\n",
       "      <th>day</th>\n",
       "      <th>minute</th>\n",
       "      <th>rank</th>\n",
       "      <th>time</th>\n",
       "      <th>timestamp</th>\n",
       "    </tr>\n",
       "  </thead>\n",
       "  <tbody>\n",
       "    <tr>\n",
       "      <th>0</th>\n",
       "      <td>240093421</td>\n",
       "      <td>光辉业绩 伟人风采:细说《邓小平》</td>\n",
       "      <td>7-5051-0077-7</td>\n",
       "      <td>2010-01-04</td>\n",
       "      <td>13:50:27</td>\n",
       "      <td>0</td>\n",
       "      <td>2010-01-04 13:50:27</td>\n",
       "      <td>1.262584e+09</td>\n",
       "    </tr>\n",
       "    <tr>\n",
       "      <th>1</th>\n",
       "      <td>206080127</td>\n",
       "      <td>电路原理.上册</td>\n",
       "      <td>7-302-01968-1</td>\n",
       "      <td>2010-01-11</td>\n",
       "      <td>13:06:09</td>\n",
       "      <td>0</td>\n",
       "      <td>2010-01-11 13:06:09</td>\n",
       "      <td>1.263186e+09</td>\n",
       "    </tr>\n",
       "    <tr>\n",
       "      <th>2</th>\n",
       "      <td>S20060989</td>\n",
       "      <td>交流调速系统</td>\n",
       "      <td>7-111-05236-6</td>\n",
       "      <td>2010-01-05</td>\n",
       "      <td>09:04:09</td>\n",
       "      <td>0</td>\n",
       "      <td>2010-01-05 09:04:09</td>\n",
       "      <td>1.262653e+09</td>\n",
       "    </tr>\n",
       "    <tr>\n",
       "      <th>3</th>\n",
       "      <td>S20062833</td>\n",
       "      <td>过程控制</td>\n",
       "      <td>7-302-01115-X</td>\n",
       "      <td>2010-01-11</td>\n",
       "      <td>13:46:13</td>\n",
       "      <td>0</td>\n",
       "      <td>2010-01-11 13:46:13</td>\n",
       "      <td>1.263189e+09</td>\n",
       "    </tr>\n",
       "    <tr>\n",
       "      <th>4</th>\n",
       "      <td>S20062833</td>\n",
       "      <td>过程控制</td>\n",
       "      <td>7-302-01115-X</td>\n",
       "      <td>2010-01-11</td>\n",
       "      <td>13:46:09</td>\n",
       "      <td>0</td>\n",
       "      <td>2010-01-11 13:46:09</td>\n",
       "      <td>1.263189e+09</td>\n",
       "    </tr>\n",
       "    <tr>\n",
       "      <th>5</th>\n",
       "      <td>S20065040</td>\n",
       "      <td>资本论.一卷,资本的生产过程</td>\n",
       "      <td>7-01-000172-3</td>\n",
       "      <td>2010-01-12</td>\n",
       "      <td>09:17:39</td>\n",
       "      <td>0</td>\n",
       "      <td>2010-01-12 09:17:39</td>\n",
       "      <td>1.263259e+09</td>\n",
       "    </tr>\n",
       "    <tr>\n",
       "      <th>6</th>\n",
       "      <td>233090210</td>\n",
       "      <td>英语语法大全</td>\n",
       "      <td>7-5600-1003-2</td>\n",
       "      <td>2010-01-06</td>\n",
       "      <td>13:36:26</td>\n",
       "      <td>0</td>\n",
       "      <td>2010-01-06 13:36:26</td>\n",
       "      <td>1.262756e+09</td>\n",
       "    </tr>\n",
       "    <tr>\n",
       "      <th>7</th>\n",
       "      <td>240073023</td>\n",
       "      <td>英语构词解析:前缀、后缀与词根</td>\n",
       "      <td>9071.76</td>\n",
       "      <td>2010-01-04</td>\n",
       "      <td>14:43:40</td>\n",
       "      <td>0</td>\n",
       "      <td>2010-01-04 14:43:40</td>\n",
       "      <td>1.262587e+09</td>\n",
       "    </tr>\n",
       "    <tr>\n",
       "      <th>8</th>\n",
       "      <td>214090315</td>\n",
       "      <td>新编大学英语四级考试高分突破.词汇·语法</td>\n",
       "      <td>7-5023-3159-X</td>\n",
       "      <td>2010-01-07</td>\n",
       "      <td>14:36:29</td>\n",
       "      <td>0</td>\n",
       "      <td>2010-01-07 14:36:29</td>\n",
       "      <td>1.262846e+09</td>\n",
       "    </tr>\n",
       "    <tr>\n",
       "      <th>9</th>\n",
       "      <td>231070515</td>\n",
       "      <td>机械制造工艺学及夹具设计</td>\n",
       "      <td>15271.053</td>\n",
       "      <td>2010-01-04</td>\n",
       "      <td>12:52:37</td>\n",
       "      <td>0</td>\n",
       "      <td>2010-01-04 12:52:37</td>\n",
       "      <td>1.262581e+09</td>\n",
       "    </tr>\n",
       "  </tbody>\n",
       "</table>\n",
       "</div>"
      ],
      "text/plain": [
       "        name              bookname       category         day    minute  rank  \\\n",
       "0  240093421     光辉业绩 伟人风采:细说《邓小平》  7-5051-0077-7  2010-01-04  13:50:27     0   \n",
       "1  206080127               电路原理.上册  7-302-01968-1  2010-01-11  13:06:09     0   \n",
       "2  S20060989                交流调速系统  7-111-05236-6  2010-01-05  09:04:09     0   \n",
       "3  S20062833                  过程控制  7-302-01115-X  2010-01-11  13:46:13     0   \n",
       "4  S20062833                  过程控制  7-302-01115-X  2010-01-11  13:46:09     0   \n",
       "5  S20065040        资本论.一卷,资本的生产过程  7-01-000172-3  2010-01-12  09:17:39     0   \n",
       "6  233090210                英语语法大全  7-5600-1003-2  2010-01-06  13:36:26     0   \n",
       "7  240073023       英语构词解析:前缀、后缀与词根        9071.76  2010-01-04  14:43:40     0   \n",
       "8  214090315  新编大学英语四级考试高分突破.词汇·语法  7-5023-3159-X  2010-01-07  14:36:29     0   \n",
       "9  231070515          机械制造工艺学及夹具设计      15271.053  2010-01-04  12:52:37     0   \n",
       "\n",
       "                  time     timestamp  \n",
       "0  2010-01-04 13:50:27  1.262584e+09  \n",
       "1  2010-01-11 13:06:09  1.263186e+09  \n",
       "2  2010-01-05 09:04:09  1.262653e+09  \n",
       "3  2010-01-11 13:46:13  1.263189e+09  \n",
       "4  2010-01-11 13:46:09  1.263189e+09  \n",
       "5  2010-01-12 09:17:39  1.263259e+09  \n",
       "6  2010-01-06 13:36:26  1.262756e+09  \n",
       "7  2010-01-04 14:43:40  1.262587e+09  \n",
       "8  2010-01-07 14:36:29  1.262846e+09  \n",
       "9  2010-01-04 12:52:37  1.262581e+09  "
      ]
     },
     "execution_count": 6,
     "metadata": {},
     "output_type": "execute_result"
    }
   ],
   "source": [
    "#创建评分列\n",
    "data[\"rank\"] = 0\n",
    "data[\"time\"] = data[\"day\"] + \" \" + data[\"minute\"]\n",
    "#创建时间戳列\n",
    "data[\"timestamp\"] = [time.strptime(i, \"%Y-%m-%d %H:%M:%S\") for i in data[\"time\"]]\n",
    "data[\"timestamp\"] = [time.mktime(i) for i in data[\"timestamp\"]]\n",
    "data.head(10)"
   ]
  },
  {
   "cell_type": "code",
   "execution_count": 12,
   "metadata": {
    "collapsed": true
   },
   "outputs": [
    {
     "ename": "MemoryError",
     "evalue": "",
     "output_type": "error",
     "traceback": [
      "\u001b[0;31m---------------------------------------------------------------------------\u001b[0m",
      "\u001b[0;31mMemoryError\u001b[0m                               Traceback (most recent call last)",
      "\u001b[0;32m<ipython-input-12-8c13dcbdea4a>\u001b[0m in \u001b[0;36m<module>\u001b[0;34m()\u001b[0m\n\u001b[1;32m      4\u001b[0m \u001b[1;32mfor\u001b[0m \u001b[0mi\u001b[0m \u001b[1;32min\u001b[0m \u001b[0mdata\u001b[0m\u001b[1;33m[\u001b[0m\u001b[1;34m\"bookname\"\u001b[0m\u001b[1;33m]\u001b[0m\u001b[1;33m:\u001b[0m\u001b[1;33m\u001b[0m\u001b[0m\n\u001b[1;32m      5\u001b[0m     \u001b[0mbookname_map\u001b[0m\u001b[1;33m[\u001b[0m\u001b[0mi\u001b[0m\u001b[1;33m]\u001b[0m \u001b[1;33m+=\u001b[0m \u001b[1;36m1\u001b[0m\u001b[1;33m\u001b[0m\u001b[0m\n\u001b[0;32m----> 6\u001b[0;31m \u001b[0mbook_count\u001b[0m \u001b[1;33m=\u001b[0m \u001b[0mpd\u001b[0m\u001b[1;33m.\u001b[0m\u001b[0mDataFrame\u001b[0m\u001b[1;33m(\u001b[0m\u001b[0mbookname_map\u001b[0m\u001b[1;33m,\u001b[0m \u001b[0mindex\u001b[0m\u001b[1;33m=\u001b[0m\u001b[0mrange\u001b[0m\u001b[1;33m(\u001b[0m\u001b[0mlen\u001b[0m\u001b[1;33m(\u001b[0m\u001b[0mbookname_map\u001b[0m\u001b[1;33m)\u001b[0m\u001b[1;33m)\u001b[0m\u001b[1;33m)\u001b[0m\u001b[1;33m\u001b[0m\u001b[0m\n\u001b[0m\u001b[1;32m      7\u001b[0m \u001b[1;31m#book_count.to_csv(\"librarydata/book_count.csv\", encoding=\"utf-8\")\u001b[0m\u001b[1;33m\u001b[0m\u001b[1;33m\u001b[0m\u001b[0m\n",
      "\u001b[0;32mC:\\Users\\LT\\Anaconda3\\lib\\site-packages\\pandas\\core\\frame.py\u001b[0m in \u001b[0;36m__init__\u001b[0;34m(self, data, index, columns, dtype, copy)\u001b[0m\n\u001b[1;32m    264\u001b[0m                                  dtype=dtype, copy=copy)\n\u001b[1;32m    265\u001b[0m         \u001b[1;32melif\u001b[0m \u001b[0misinstance\u001b[0m\u001b[1;33m(\u001b[0m\u001b[0mdata\u001b[0m\u001b[1;33m,\u001b[0m \u001b[0mdict\u001b[0m\u001b[1;33m)\u001b[0m\u001b[1;33m:\u001b[0m\u001b[1;33m\u001b[0m\u001b[0m\n\u001b[0;32m--> 266\u001b[0;31m             \u001b[0mmgr\u001b[0m \u001b[1;33m=\u001b[0m \u001b[0mself\u001b[0m\u001b[1;33m.\u001b[0m\u001b[0m_init_dict\u001b[0m\u001b[1;33m(\u001b[0m\u001b[0mdata\u001b[0m\u001b[1;33m,\u001b[0m \u001b[0mindex\u001b[0m\u001b[1;33m,\u001b[0m \u001b[0mcolumns\u001b[0m\u001b[1;33m,\u001b[0m \u001b[0mdtype\u001b[0m\u001b[1;33m=\u001b[0m\u001b[0mdtype\u001b[0m\u001b[1;33m)\u001b[0m\u001b[1;33m\u001b[0m\u001b[0m\n\u001b[0m\u001b[1;32m    267\u001b[0m         \u001b[1;32melif\u001b[0m \u001b[0misinstance\u001b[0m\u001b[1;33m(\u001b[0m\u001b[0mdata\u001b[0m\u001b[1;33m,\u001b[0m \u001b[0mma\u001b[0m\u001b[1;33m.\u001b[0m\u001b[0mMaskedArray\u001b[0m\u001b[1;33m)\u001b[0m\u001b[1;33m:\u001b[0m\u001b[1;33m\u001b[0m\u001b[0m\n\u001b[1;32m    268\u001b[0m             \u001b[1;32mimport\u001b[0m \u001b[0mnumpy\u001b[0m\u001b[1;33m.\u001b[0m\u001b[0mma\u001b[0m\u001b[1;33m.\u001b[0m\u001b[0mmrecords\u001b[0m \u001b[1;32mas\u001b[0m \u001b[0mmrecords\u001b[0m\u001b[1;33m\u001b[0m\u001b[0m\n",
      "\u001b[0;32mC:\\Users\\LT\\Anaconda3\\lib\\site-packages\\pandas\\core\\frame.py\u001b[0m in \u001b[0;36m_init_dict\u001b[0;34m(self, data, index, columns, dtype)\u001b[0m\n\u001b[1;32m    400\u001b[0m             \u001b[0marrays\u001b[0m \u001b[1;33m=\u001b[0m \u001b[1;33m[\u001b[0m\u001b[0mdata\u001b[0m\u001b[1;33m[\u001b[0m\u001b[0mk\u001b[0m\u001b[1;33m]\u001b[0m \u001b[1;32mfor\u001b[0m \u001b[0mk\u001b[0m \u001b[1;32min\u001b[0m \u001b[0mkeys\u001b[0m\u001b[1;33m]\u001b[0m\u001b[1;33m\u001b[0m\u001b[0m\n\u001b[1;32m    401\u001b[0m \u001b[1;33m\u001b[0m\u001b[0m\n\u001b[0;32m--> 402\u001b[0;31m         \u001b[1;32mreturn\u001b[0m \u001b[0m_arrays_to_mgr\u001b[0m\u001b[1;33m(\u001b[0m\u001b[0marrays\u001b[0m\u001b[1;33m,\u001b[0m \u001b[0mdata_names\u001b[0m\u001b[1;33m,\u001b[0m \u001b[0mindex\u001b[0m\u001b[1;33m,\u001b[0m \u001b[0mcolumns\u001b[0m\u001b[1;33m,\u001b[0m \u001b[0mdtype\u001b[0m\u001b[1;33m=\u001b[0m\u001b[0mdtype\u001b[0m\u001b[1;33m)\u001b[0m\u001b[1;33m\u001b[0m\u001b[0m\n\u001b[0m\u001b[1;32m    403\u001b[0m \u001b[1;33m\u001b[0m\u001b[0m\n\u001b[1;32m    404\u001b[0m     \u001b[1;32mdef\u001b[0m \u001b[0m_init_ndarray\u001b[0m\u001b[1;33m(\u001b[0m\u001b[0mself\u001b[0m\u001b[1;33m,\u001b[0m \u001b[0mvalues\u001b[0m\u001b[1;33m,\u001b[0m \u001b[0mindex\u001b[0m\u001b[1;33m,\u001b[0m \u001b[0mcolumns\u001b[0m\u001b[1;33m,\u001b[0m \u001b[0mdtype\u001b[0m\u001b[1;33m=\u001b[0m\u001b[1;32mNone\u001b[0m\u001b[1;33m,\u001b[0m \u001b[0mcopy\u001b[0m\u001b[1;33m=\u001b[0m\u001b[1;32mFalse\u001b[0m\u001b[1;33m)\u001b[0m\u001b[1;33m:\u001b[0m\u001b[1;33m\u001b[0m\u001b[0m\n",
      "\u001b[0;32mC:\\Users\\LT\\Anaconda3\\lib\\site-packages\\pandas\\core\\frame.py\u001b[0m in \u001b[0;36m_arrays_to_mgr\u001b[0;34m(arrays, arr_names, index, columns, dtype)\u001b[0m\n\u001b[1;32m   5406\u001b[0m     \u001b[0maxes\u001b[0m \u001b[1;33m=\u001b[0m \u001b[1;33m[\u001b[0m\u001b[0m_ensure_index\u001b[0m\u001b[1;33m(\u001b[0m\u001b[0mcolumns\u001b[0m\u001b[1;33m)\u001b[0m\u001b[1;33m,\u001b[0m \u001b[0m_ensure_index\u001b[0m\u001b[1;33m(\u001b[0m\u001b[0mindex\u001b[0m\u001b[1;33m)\u001b[0m\u001b[1;33m]\u001b[0m\u001b[1;33m\u001b[0m\u001b[0m\n\u001b[1;32m   5407\u001b[0m \u001b[1;33m\u001b[0m\u001b[0m\n\u001b[0;32m-> 5408\u001b[0;31m     \u001b[1;32mreturn\u001b[0m \u001b[0mcreate_block_manager_from_arrays\u001b[0m\u001b[1;33m(\u001b[0m\u001b[0marrays\u001b[0m\u001b[1;33m,\u001b[0m \u001b[0marr_names\u001b[0m\u001b[1;33m,\u001b[0m \u001b[0maxes\u001b[0m\u001b[1;33m)\u001b[0m\u001b[1;33m\u001b[0m\u001b[0m\n\u001b[0m\u001b[1;32m   5409\u001b[0m \u001b[1;33m\u001b[0m\u001b[0m\n\u001b[1;32m   5410\u001b[0m \u001b[1;33m\u001b[0m\u001b[0m\n",
      "\u001b[0;32mC:\\Users\\LT\\Anaconda3\\lib\\site-packages\\pandas\\core\\internals.py\u001b[0m in \u001b[0;36mcreate_block_manager_from_arrays\u001b[0;34m(arrays, names, axes)\u001b[0m\n\u001b[1;32m   4260\u001b[0m \u001b[1;33m\u001b[0m\u001b[0m\n\u001b[1;32m   4261\u001b[0m     \u001b[1;32mtry\u001b[0m\u001b[1;33m:\u001b[0m\u001b[1;33m\u001b[0m\u001b[0m\n\u001b[0;32m-> 4262\u001b[0;31m         \u001b[0mblocks\u001b[0m \u001b[1;33m=\u001b[0m \u001b[0mform_blocks\u001b[0m\u001b[1;33m(\u001b[0m\u001b[0marrays\u001b[0m\u001b[1;33m,\u001b[0m \u001b[0mnames\u001b[0m\u001b[1;33m,\u001b[0m \u001b[0maxes\u001b[0m\u001b[1;33m)\u001b[0m\u001b[1;33m\u001b[0m\u001b[0m\n\u001b[0m\u001b[1;32m   4263\u001b[0m         \u001b[0mmgr\u001b[0m \u001b[1;33m=\u001b[0m \u001b[0mBlockManager\u001b[0m\u001b[1;33m(\u001b[0m\u001b[0mblocks\u001b[0m\u001b[1;33m,\u001b[0m \u001b[0maxes\u001b[0m\u001b[1;33m)\u001b[0m\u001b[1;33m\u001b[0m\u001b[0m\n\u001b[1;32m   4264\u001b[0m         \u001b[0mmgr\u001b[0m\u001b[1;33m.\u001b[0m\u001b[0m_consolidate_inplace\u001b[0m\u001b[1;33m(\u001b[0m\u001b[1;33m)\u001b[0m\u001b[1;33m\u001b[0m\u001b[0m\n",
      "\u001b[0;32mC:\\Users\\LT\\Anaconda3\\lib\\site-packages\\pandas\\core\\internals.py\u001b[0m in \u001b[0;36mform_blocks\u001b[0;34m(arrays, names, axes)\u001b[0m\n\u001b[1;32m   4337\u001b[0m \u001b[1;33m\u001b[0m\u001b[0m\n\u001b[1;32m   4338\u001b[0m     \u001b[1;32mif\u001b[0m \u001b[0mlen\u001b[0m\u001b[1;33m(\u001b[0m\u001b[0mint_items\u001b[0m\u001b[1;33m)\u001b[0m\u001b[1;33m:\u001b[0m\u001b[1;33m\u001b[0m\u001b[0m\n\u001b[0;32m-> 4339\u001b[0;31m         \u001b[0mint_blocks\u001b[0m \u001b[1;33m=\u001b[0m \u001b[0m_multi_blockify\u001b[0m\u001b[1;33m(\u001b[0m\u001b[0mint_items\u001b[0m\u001b[1;33m)\u001b[0m\u001b[1;33m\u001b[0m\u001b[0m\n\u001b[0m\u001b[1;32m   4340\u001b[0m         \u001b[0mblocks\u001b[0m\u001b[1;33m.\u001b[0m\u001b[0mextend\u001b[0m\u001b[1;33m(\u001b[0m\u001b[0mint_blocks\u001b[0m\u001b[1;33m)\u001b[0m\u001b[1;33m\u001b[0m\u001b[0m\n\u001b[1;32m   4341\u001b[0m \u001b[1;33m\u001b[0m\u001b[0m\n",
      "\u001b[0;32mC:\\Users\\LT\\Anaconda3\\lib\\site-packages\\pandas\\core\\internals.py\u001b[0m in \u001b[0;36m_multi_blockify\u001b[0;34m(tuples, dtype)\u001b[0m\n\u001b[1;32m   4406\u001b[0m     \u001b[1;32mfor\u001b[0m \u001b[0mdtype\u001b[0m\u001b[1;33m,\u001b[0m \u001b[0mtup_block\u001b[0m \u001b[1;32min\u001b[0m \u001b[0mgrouper\u001b[0m\u001b[1;33m:\u001b[0m\u001b[1;33m\u001b[0m\u001b[0m\n\u001b[1;32m   4407\u001b[0m \u001b[1;33m\u001b[0m\u001b[0m\n\u001b[0;32m-> 4408\u001b[0;31m         \u001b[0mvalues\u001b[0m\u001b[1;33m,\u001b[0m \u001b[0mplacement\u001b[0m \u001b[1;33m=\u001b[0m \u001b[0m_stack_arrays\u001b[0m\u001b[1;33m(\u001b[0m\u001b[0mlist\u001b[0m\u001b[1;33m(\u001b[0m\u001b[0mtup_block\u001b[0m\u001b[1;33m)\u001b[0m\u001b[1;33m,\u001b[0m \u001b[0mdtype\u001b[0m\u001b[1;33m)\u001b[0m\u001b[1;33m\u001b[0m\u001b[0m\n\u001b[0m\u001b[1;32m   4409\u001b[0m \u001b[1;33m\u001b[0m\u001b[0m\n\u001b[1;32m   4410\u001b[0m         \u001b[0mblock\u001b[0m \u001b[1;33m=\u001b[0m \u001b[0mmake_block\u001b[0m\u001b[1;33m(\u001b[0m\u001b[0mvalues\u001b[0m\u001b[1;33m,\u001b[0m \u001b[0mplacement\u001b[0m\u001b[1;33m=\u001b[0m\u001b[0mplacement\u001b[0m\u001b[1;33m)\u001b[0m\u001b[1;33m\u001b[0m\u001b[0m\n",
      "\u001b[0;32mC:\\Users\\LT\\Anaconda3\\lib\\site-packages\\pandas\\core\\internals.py\u001b[0m in \u001b[0;36m_stack_arrays\u001b[0;34m(tuples, dtype)\u001b[0m\n\u001b[1;32m   4449\u001b[0m     \u001b[0mshape\u001b[0m \u001b[1;33m=\u001b[0m \u001b[1;33m(\u001b[0m\u001b[0mlen\u001b[0m\u001b[1;33m(\u001b[0m\u001b[0marrays\u001b[0m\u001b[1;33m)\u001b[0m\u001b[1;33m,\u001b[0m\u001b[1;33m)\u001b[0m \u001b[1;33m+\u001b[0m \u001b[0m_shape_compat\u001b[0m\u001b[1;33m(\u001b[0m\u001b[0mfirst\u001b[0m\u001b[1;33m)\u001b[0m\u001b[1;33m\u001b[0m\u001b[0m\n\u001b[1;32m   4450\u001b[0m \u001b[1;33m\u001b[0m\u001b[0m\n\u001b[0;32m-> 4451\u001b[0;31m     \u001b[0mstacked\u001b[0m \u001b[1;33m=\u001b[0m \u001b[0mnp\u001b[0m\u001b[1;33m.\u001b[0m\u001b[0mempty\u001b[0m\u001b[1;33m(\u001b[0m\u001b[0mshape\u001b[0m\u001b[1;33m,\u001b[0m \u001b[0mdtype\u001b[0m\u001b[1;33m=\u001b[0m\u001b[0mdtype\u001b[0m\u001b[1;33m)\u001b[0m\u001b[1;33m\u001b[0m\u001b[0m\n\u001b[0m\u001b[1;32m   4452\u001b[0m     \u001b[1;32mfor\u001b[0m \u001b[0mi\u001b[0m\u001b[1;33m,\u001b[0m \u001b[0marr\u001b[0m \u001b[1;32min\u001b[0m \u001b[0menumerate\u001b[0m\u001b[1;33m(\u001b[0m\u001b[0marrays\u001b[0m\u001b[1;33m)\u001b[0m\u001b[1;33m:\u001b[0m\u001b[1;33m\u001b[0m\u001b[0m\n\u001b[1;32m   4453\u001b[0m         \u001b[0mstacked\u001b[0m\u001b[1;33m[\u001b[0m\u001b[0mi\u001b[0m\u001b[1;33m]\u001b[0m \u001b[1;33m=\u001b[0m \u001b[0m_asarray_compat\u001b[0m\u001b[1;33m(\u001b[0m\u001b[0marr\u001b[0m\u001b[1;33m)\u001b[0m\u001b[1;33m\u001b[0m\u001b[0m\n",
      "\u001b[0;31mMemoryError\u001b[0m: "
     ]
    }
   ],
   "source": [
    "#统计每本书借阅次数\n",
    "bookname_set = set(data[\"bookname\"])\n",
    "bookname_map = {x:0 for x in bookname_set}\n",
    "for i in data[\"bookname\"]:\n",
    "    bookname_map[i] += 1\n",
    "book_count = pd.DataFrame(bookname_map)\n",
    "#book_count.to_csv(\"librarydata/book_count.csv\", encoding=\"utf-8\")"
   ]
  },
  {
   "cell_type": "code",
   "execution_count": null,
   "metadata": {
    "collapsed": true
   },
   "outputs": [],
   "source": [
    "#用户-借阅图书矩阵\n",
    "name_count = set(data[\"name\"])\n",
    "name_count = {x:[] for x in name_count}\n",
    "for na, book_na in zip(data[\"name\"], data[\"bookname\"]):\n",
    "    name_count[na].append(book_na)\n",
    "name = pd.Series(name_count)\n",
    "name = pd.DataFrame(name, columns=[\"bookname\"])\n",
    "name[\"bookname\"] = name[\"bookname\"].apply(lambda x:np.array(x))\n",
    "#name.to_csv(\"librarydata/user_item_rename.csv\", encoding='utf-8')"
   ]
  },
  {
   "cell_type": "code",
   "execution_count": null,
   "metadata": {
    "collapsed": true
   },
   "outputs": [],
   "source": [
    "#按借阅次数和书的热门程度对每次记录打分\n",
    "book_split = re.split(\"[|]|,\",user_item.loc['214090315'][\"bookname\"].replace('\\'','').replace(\"[\",\"\").replace(\"]\",\"\"))\n",
    "for index,name,bookname,rank in zip(data.index,data[\"name\"],data[\"bookname\"],data[\"rank\"]):\n",
    "    book_split = re.split(\"[|]|,\",user_item.loc[name][\"bookname\"].replace('\\'','').replace(\"[\",\"\").replace(\"]\",\"\"))\n",
    "    for i in range(len(book_split)):\n",
    "        book_split[i] = book_split[i].strip()\n",
    "    count = collections.Counter(book_split)\n",
    "    if count[bookname] >= 2:\n",
    "        data.loc[index, \"rank\"] = 5\n",
    "    elif book_count.loc[book_count[\"bookname\"] == bookname][\"count\"].values >= 20:\n",
    "        data.loc[index, \"rank\"] = 5\n",
    "    else:\n",
    "        data.loc[index, \"rank\"] = int(np.round(0.2*book_count.loc[book_count[\"bookname\"] == bookname][\"count\"].values+1))"
   ]
  },
  {
   "cell_type": "code",
   "execution_count": 31,
   "metadata": {
    "collapsed": true
   },
   "outputs": [
    {
     "data": {
      "text/html": [
       "<div>\n",
       "<table border=\"1\" class=\"dataframe\">\n",
       "  <thead>\n",
       "    <tr style=\"text-align: right;\">\n",
       "      <th></th>\n",
       "      <th>name</th>\n",
       "      <th>bookname</th>\n",
       "      <th>category</th>\n",
       "      <th>day</th>\n",
       "      <th>minute</th>\n",
       "      <th>rank</th>\n",
       "      <th>time</th>\n",
       "      <th>timestamp</th>\n",
       "    </tr>\n",
       "  </thead>\n",
       "  <tbody>\n",
       "    <tr>\n",
       "      <th>0</th>\n",
       "      <td>12495</td>\n",
       "      <td>13720</td>\n",
       "      <td>7-5051-0077-7</td>\n",
       "      <td>2010-01-04</td>\n",
       "      <td>13:50:27</td>\n",
       "      <td>1</td>\n",
       "      <td>2010-01-04 13:50:27</td>\n",
       "      <td>1.262584e+09</td>\n",
       "    </tr>\n",
       "    <tr>\n",
       "      <th>1</th>\n",
       "      <td>3840</td>\n",
       "      <td>40054</td>\n",
       "      <td>7-302-01968-1</td>\n",
       "      <td>2010-01-11</td>\n",
       "      <td>13:06:09</td>\n",
       "      <td>2</td>\n",
       "      <td>2010-01-11 13:06:09</td>\n",
       "      <td>1.263186e+09</td>\n",
       "    </tr>\n",
       "    <tr>\n",
       "      <th>2</th>\n",
       "      <td>13312</td>\n",
       "      <td>11495</td>\n",
       "      <td>7-111-05236-6</td>\n",
       "      <td>2010-01-05</td>\n",
       "      <td>09:04:09</td>\n",
       "      <td>2</td>\n",
       "      <td>2010-01-05 09:04:09</td>\n",
       "      <td>1.262653e+09</td>\n",
       "    </tr>\n",
       "    <tr>\n",
       "      <th>3</th>\n",
       "      <td>14257</td>\n",
       "      <td>49372</td>\n",
       "      <td>7-302-01115-X</td>\n",
       "      <td>2010-01-11</td>\n",
       "      <td>13:46:13</td>\n",
       "      <td>5</td>\n",
       "      <td>2010-01-11 13:46:13</td>\n",
       "      <td>1.263189e+09</td>\n",
       "    </tr>\n",
       "    <tr>\n",
       "      <th>4</th>\n",
       "      <td>14257</td>\n",
       "      <td>49372</td>\n",
       "      <td>7-302-01115-X</td>\n",
       "      <td>2010-01-11</td>\n",
       "      <td>13:46:09</td>\n",
       "      <td>5</td>\n",
       "      <td>2010-01-11 13:46:09</td>\n",
       "      <td>1.263189e+09</td>\n",
       "    </tr>\n",
       "    <tr>\n",
       "      <th>5</th>\n",
       "      <td>15176</td>\n",
       "      <td>48565</td>\n",
       "      <td>7-01-000172-3</td>\n",
       "      <td>2010-01-12</td>\n",
       "      <td>09:17:39</td>\n",
       "      <td>2</td>\n",
       "      <td>2010-01-12 09:17:39</td>\n",
       "      <td>1.263259e+09</td>\n",
       "    </tr>\n",
       "    <tr>\n",
       "      <th>6</th>\n",
       "      <td>9113</td>\n",
       "      <td>45957</td>\n",
       "      <td>7-5600-1003-2</td>\n",
       "      <td>2010-01-06</td>\n",
       "      <td>13:36:26</td>\n",
       "      <td>2</td>\n",
       "      <td>2010-01-06 13:36:26</td>\n",
       "      <td>1.262756e+09</td>\n",
       "    </tr>\n",
       "    <tr>\n",
       "      <th>7</th>\n",
       "      <td>9989</td>\n",
       "      <td>45851</td>\n",
       "      <td>9071.76</td>\n",
       "      <td>2010-01-04</td>\n",
       "      <td>14:43:40</td>\n",
       "      <td>5</td>\n",
       "      <td>2010-01-04 14:43:40</td>\n",
       "      <td>1.262587e+09</td>\n",
       "    </tr>\n",
       "    <tr>\n",
       "      <th>8</th>\n",
       "      <td>7855</td>\n",
       "      <td>30785</td>\n",
       "      <td>7-5023-3159-X</td>\n",
       "      <td>2010-01-07</td>\n",
       "      <td>14:36:29</td>\n",
       "      <td>2</td>\n",
       "      <td>2010-01-07 14:36:29</td>\n",
       "      <td>1.262846e+09</td>\n",
       "    </tr>\n",
       "    <tr>\n",
       "      <th>9</th>\n",
       "      <td>8726</td>\n",
       "      <td>32822</td>\n",
       "      <td>15271.053</td>\n",
       "      <td>2010-01-04</td>\n",
       "      <td>12:52:37</td>\n",
       "      <td>2</td>\n",
       "      <td>2010-01-04 12:52:37</td>\n",
       "      <td>1.262581e+09</td>\n",
       "    </tr>\n",
       "  </tbody>\n",
       "</table>\n",
       "</div>"
      ],
      "text/plain": [
       "    name  bookname       category         day    minute  rank  \\\n",
       "0  12495     13720  7-5051-0077-7  2010-01-04  13:50:27     1   \n",
       "1   3840     40054  7-302-01968-1  2010-01-11  13:06:09     2   \n",
       "2  13312     11495  7-111-05236-6  2010-01-05  09:04:09     2   \n",
       "3  14257     49372  7-302-01115-X  2010-01-11  13:46:13     5   \n",
       "4  14257     49372  7-302-01115-X  2010-01-11  13:46:09     5   \n",
       "5  15176     48565  7-01-000172-3  2010-01-12  09:17:39     2   \n",
       "6   9113     45957  7-5600-1003-2  2010-01-06  13:36:26     2   \n",
       "7   9989     45851        9071.76  2010-01-04  14:43:40     5   \n",
       "8   7855     30785  7-5023-3159-X  2010-01-07  14:36:29     2   \n",
       "9   8726     32822      15271.053  2010-01-04  12:52:37     2   \n",
       "\n",
       "                  time     timestamp  \n",
       "0  2010-01-04 13:50:27  1.262584e+09  \n",
       "1  2010-01-11 13:06:09  1.263186e+09  \n",
       "2  2010-01-05 09:04:09  1.262653e+09  \n",
       "3  2010-01-11 13:46:13  1.263189e+09  \n",
       "4  2010-01-11 13:46:09  1.263189e+09  \n",
       "5  2010-01-12 09:17:39  1.263259e+09  \n",
       "6  2010-01-06 13:36:26  1.262756e+09  \n",
       "7  2010-01-04 14:43:40  1.262587e+09  \n",
       "8  2010-01-07 14:36:29  1.262846e+09  \n",
       "9  2010-01-04 12:52:37  1.262581e+09  "
      ]
     },
     "execution_count": 31,
     "metadata": {},
     "output_type": "execute_result"
    }
   ],
   "source": [
    "final = pd.read_csv(\"librarydata/rename.csv\", encoding='utf-8', index_col=0)\n",
    "final.head(10)"
   ]
  },
  {
   "cell_type": "code",
   "execution_count": 3,
   "metadata": {
    "collapsed": true
   },
   "outputs": [],
   "source": [
    "import matplotlib.pyplot as plt"
   ]
  },
  {
   "cell_type": "code",
   "execution_count": 32,
   "metadata": {
    "collapsed": false
   },
   "outputs": [],
   "source": [
    "a = final[\"rank\"].value_counts()"
   ]
  },
  {
   "cell_type": "code",
   "execution_count": 29,
   "metadata": {
    "collapsed": false
   },
   "outputs": [
    {
     "data": {
      "text/plain": [
       "1    30055\n",
       "2    41436\n",
       "3    21297\n",
       "4    12514\n",
       "5    36748\n",
       "Name: rank, dtype: int64"
      ]
     },
     "execution_count": 29,
     "metadata": {},
     "output_type": "execute_result"
    }
   ],
   "source": [
    "a.sort_index()"
   ]
  },
  {
   "cell_type": "code",
   "execution_count": 33,
   "metadata": {
    "collapsed": false
   },
   "outputs": [
    {
     "data": {
      "image/png": "[encoded data removed]",
      "text/plain": [
       "<matplotlib.figure.Figure at 0x1f3f2511ef0>"
      ]
     },
     "metadata": {},
     "output_type": "display_data"
    }
   ],
   "source": [
    "plt.bar(range(1,6),a.sort_index())\n",
    "plt.xlabel(\"rank\")\n",
    "plt.ylabel(\"count\")\n",
    "plt.show()"
   ]
  },
  {
   "cell_type": "code",
   "execution_count": null,
   "metadata": {
    "collapsed": true
   },
   "outputs": [],
   "source": [
    "for index,bookname in zip(data_new.index,data_new[\"bookname\"]):\n",
    "    data_new.loc[index, \"bookname\"] = book_count.loc[book_count[\"bookname\"] == bookname].index[0]\n",
    "data_new.to_csv(\"librarydata/final.csv\", encoding='utf-8')"
   ]
  },
  {
   "cell_type": "code",
   "execution_count": null,
   "metadata": {
    "collapsed": true
   },
   "outputs": [],
   "source": [
    "final_data[\"rank\"] = final_data[\"rank\"] - 1\n",
    "kmeans = KMeans(n_clusters=8, random_state=0).fit(final_data[[\"name\",\"bookname\"]], final_data[\"rank\"])\n",
    "print(kmeans)\n",
    "Y = kmeans.predict(final_data[[\"name\",\"bookname\"]])\n",
    "metrics.adjusted_rand_score(final_data[\"rank\"], Y)"
   ]
  },
  {
   "cell_type": "code",
   "execution_count": 2,
   "metadata": {
    "collapsed": false
   },
   "outputs": [
    {
     "name": "stderr",
     "output_type": "stream",
     "text": [
      "C:\\Users\\LT\\Anaconda3\\lib\\site-packages\\h5py\\__init__.py:36: FutureWarning: Conversion of the second argument of issubdtype from `float` to `np.floating` is deprecated. In future, it will be treated as `np.float64 == np.dtype(float).type`.\n",
      "  from ._conv import register_converters as _register_converters\n",
      "Using TensorFlow backend.\n"
     ]
    }
   ],
   "source": [
    "import tensorflow as tf\n",
    "from keras import layers\n",
    "from keras.layers import RepeatVector, Dense, Activation, Lambda, Input\n",
    "from keras.optimizers import Adam\n",
    "from keras.utils import to_categorical\n",
    "from keras.models import load_model, Model\n",
    "import keras.backend as K"
   ]
  },
  {
   "cell_type": "code",
   "execution_count": 3,
   "metadata": {
    "collapsed": true
   },
   "outputs": [],
   "source": [
    "final_data = pd.read_csv(\"librarydata/rename.csv\", encoding='utf-8',index_col=0)\n",
    "final_data = final_data.reindex(np.random.permutation(final_data.index))\n",
    "training = final_data.head(176678)\n",
    "validation = final_data.tail(1786)"
   ]
  },
  {
   "cell_type": "code",
   "execution_count": 26,
   "metadata": {
    "collapsed": true
   },
   "outputs": [],
   "source": [
    "def Recommendation(input_shape):\n",
    "    name_input = Input(input_shape)\n",
    "    X = Dense(200, activation='tanh')(name_input)\n",
    "    X = Dense(400, activation='tanh')(X)\n",
    "    X = Dense(800, activation='tanh')(X)\n",
    "    X = Dense(400, activation='tanh')(X)\n",
    "    X = Dense(200, activation='tanh')(X)\n",
    "    X = Dense(100, activation='tanh')(X)\n",
    "    X = Dense(50, activation='tanh')(X)\n",
    "    X = Dense(25, activation='tanh')(X)\n",
    "    X = Dense(10, activation='tanh')(X)\n",
    "    X = Dense(1, activation='relu')(X)\n",
    "    model = Model(inputs=name_input, outputs=X)\n",
    "    return model"
   ]
  },
  {
   "cell_type": "code",
   "execution_count": 27,
   "metadata": {
    "collapsed": false
   },
   "outputs": [
    {
     "name": "stdout",
     "output_type": "stream",
     "text": [
      "_________________________________________________________________\n",
      "Layer (type)                 Output Shape              Param #   \n",
      "=================================================================\n",
      "input_3 (InputLayer)         (None, 1, 2)              0         \n",
      "_________________________________________________________________\n",
      "dense_21 (Dense)             (None, 1, 200)            600       \n",
      "_________________________________________________________________\n",
      "dense_22 (Dense)             (None, 1, 400)            80400     \n",
      "_________________________________________________________________\n",
      "dense_23 (Dense)             (None, 1, 800)            320800    \n",
      "_________________________________________________________________\n",
      "dense_24 (Dense)             (None, 1, 400)            320400    \n",
      "_________________________________________________________________\n",
      "dense_25 (Dense)             (None, 1, 200)            80200     \n",
      "_________________________________________________________________\n",
      "dense_26 (Dense)             (None, 1, 100)            20100     \n",
      "_________________________________________________________________\n",
      "dense_27 (Dense)             (None, 1, 50)             5050      \n",
      "_________________________________________________________________\n",
      "dense_28 (Dense)             (None, 1, 25)             1275      \n",
      "_________________________________________________________________\n",
      "dense_29 (Dense)             (None, 1, 10)             260       \n",
      "_________________________________________________________________\n",
      "dense_30 (Dense)             (None, 1, 1)              11        \n",
      "=================================================================\n",
      "Total params: 829,096\n",
      "Trainable params: 829,096\n",
      "Non-trainable params: 0\n",
      "_________________________________________________________________\n"
     ]
    }
   ],
   "source": [
    "model = Recommendation((1,2))\n",
    "opt = Adam(lr=0.01, beta_1=0.9,beta_2=0.999,decay=0.01)\n",
    "model.compile(loss=\"mean_squared_error\", optimizer=opt, metrics=['accuracy'])\n",
    "model.summary()"
   ]
  },
  {
   "cell_type": "code",
   "execution_count": 28,
   "metadata": {
    "collapsed": false
   },
   "outputs": [
    {
     "name": "stdout",
     "output_type": "stream",
     "text": [
      "Epoch 1/5\n",
      "176678/176678 [==============================] - 54s 306us/step - loss: 0.2013 - acc: 0.2338\n",
      "Epoch 2/5\n",
      "176678/176678 [==============================] - 52s 295us/step - loss: 0.2009 - acc: 0.2339\n",
      "Epoch 3/5\n",
      "176678/176678 [==============================] - 52s 293us/step - loss: 0.2009 - acc: 0.2339\n",
      "Epoch 4/5\n",
      "176678/176678 [==============================] - 52s 294us/step - loss: 0.2009 - acc: 0.2339\n",
      "Epoch 5/5\n",
      "176678/176678 [==============================] - 53s 298us/step - loss: 0.2009 - acc: 0.2339\n"
     ]
    },
    {
     "data": {
      "text/plain": [
       "<keras.callbacks.History at 0x2120019def0>"
      ]
     },
     "execution_count": 28,
     "metadata": {},
     "output_type": "execute_result"
    }
   ],
   "source": [
    "X = np.array(training[[\"name\",\"bookname\"]]).reshape([-1,1,2])\n",
    "Y = (np.array(training[\"rank\"]-1)/5).reshape([-1,1,1])\n",
    "# Y = np.eye(5)[Y].reshape((-1,1,5))\n",
    "\n",
    "x_pred = np.array(validation[[\"name\", \"bookname\"]]).reshape((-1,1,2))\n",
    "y_pred = (np.array(validation[\"rank\"]-1)/5).reshape((-1,1,1))\n",
    "# y_pred = np.eye(5)[y_pred].reshape(-1,1,5)\n",
    "model.fit(X,Y, epochs=5)"
   ]
  },
  {
   "cell_type": "code",
   "execution_count": 29,
   "metadata": {
    "collapsed": false
   },
   "outputs": [
    {
     "name": "stdout",
     "output_type": "stream",
     "text": [
      "1786/1786 [==============================] - 1s 330us/step\n"
     ]
    },
    {
     "data": {
      "text/plain": [
       "[0.20353864924304296, 0.230123180491393]"
      ]
     },
     "execution_count": 29,
     "metadata": {},
     "output_type": "execute_result"
    }
   ],
   "source": [
    "model.evaluate(x=x_pred,y=y_pred)"
   ]
  },
  {
   "cell_type": "code",
   "execution_count": 30,
   "metadata": {
    "collapsed": false
   },
   "outputs": [
    {
     "data": {
      "text/plain": [
       "array([[0.8]])"
      ]
     },
     "execution_count": 30,
     "metadata": {},
     "output_type": "execute_result"
    }
   ],
   "source": [
    "y_pred[104]"
   ]
  },
  {
   "cell_type": "code",
   "execution_count": 35,
   "metadata": {
    "collapsed": false
   },
   "outputs": [
    {
     "data": {
      "text/plain": [
       "array([[[0.]]], dtype=float32)"
      ]
     },
     "execution_count": 35,
     "metadata": {},
     "output_type": "execute_result"
    }
   ],
   "source": [
    "model.predict(x_pred[40][np.newaxis,:])"
   ]
  },
  {
   "cell_type": "code",
   "execution_count": null,
   "metadata": {
    "collapsed": true
   },
   "outputs": [],
   "source": []
  }
 ],
 "metadata": {
  "anaconda-cloud": {},
  "kernelspec": {
   "display_name": "Python [conda env:Anaconda3]",
   "language": "python",
   "name": "conda-env-Anaconda3-py"
  },
  "language_info": {
   "codemirror_mode": {
    "name": "ipython",
    "version": 3
   },
   "file_extension": ".py",
   "mimetype": "text/x-python",
   "name": "python",
   "nbconvert_exporter": "python",
   "pygments_lexer": "ipython3",
   "version": "3.5.2"
  }
 },
 "nbformat": 4,
 "nbformat_minor": 1
}
