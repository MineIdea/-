{
 "cells": [
  {
   "cell_type": "code",
   "execution_count": 2,
   "metadata": {
    "collapsed": false
   },
   "outputs": [],
   "source": [
    "import numpy as np\n",
    "import pandas as pd\n",
    "\n",
    "from surprise import NormalPredictor\n",
    "from surprise import Dataset\n",
    "from surprise import Reader\n",
    "from surprise.model_selection import cross_validate\n",
    "from surprise.model_selection import train_test_split\n",
    "from surprise import SVD, KNNWithZScore, KNNBasic\n",
    "from surprise import Dataset\n",
    "from surprise import accuracy\n",
    "from surprise import dump\n",
    "import matplotlib.pyplot as plt\n",
    "import matplotlib\n",
    "\n",
    "from relation_build import *\n",
    "%matplotlib inline"
   ]
  },
  {
   "cell_type": "code",
   "execution_count": 3,
   "metadata": {
    "collapsed": false
   },
   "outputs": [],
   "source": [
    "predictions, algo = dump.load(r\"librarydata\\model.md\")"
   ]
  },
  {
   "cell_type": "code",
   "execution_count": 4,
   "metadata": {
    "collapsed": true
   },
   "outputs": [],
   "source": [
    "predictions_knn, algo_knn = dump.load(r\"librarydata\\model_knn.md\")"
   ]
  },
  {
   "cell_type": "code",
   "execution_count": null,
   "metadata": {
    "collapsed": false
   },
   "outputs": [],
   "source": [
    "x = range(0,len(predictions_knn))\n",
    "y_ui = [x.r_ui for x in predictions_knn]\n",
    "y_est = [x.est for x in predictions_knn]\n",
    "plt.figure(0,figsize=(60,5))\n",
    "plt.scatter(x, y_ui, c='red')\n",
    "plt.scatter(x, y_est, c='blue')\n",
    "plt.xlabel(\"index\")\n",
    "plt.ylabel(\"score\")\n",
    "# plt.legend(loc=2)\n",
    "plt.show()\n",
    "plt.close(0)\n",
    "x = range(0,len(predictions))[:]\n",
    "y_ui = [x.r_ui for x in predictions][:]\n",
    "y_est = [x.est for x in predictions][:]\n",
    "plt.figure(1,figsize=(60,5))\n",
    "plt.scatter(x, y_ui, c='red')\n",
    "plt.scatter(x, y_est, c='blue')\n",
    "plt.xlabel(\"index\")\n",
    "plt.ylabel(\"score\")\n",
    "# plt.legend(loc=2)\n",
    "plt.show()"
   ]
  },
  {
   "cell_type": "code",
   "execution_count": 5,
   "metadata": {
    "collapsed": true
   },
   "outputs": [],
   "source": [
    "book_count = pd.read_csv(r\"librarydata\\book_count.csv\", encoding='utf-8', index_col=0)"
   ]
  },
  {
   "cell_type": "code",
   "execution_count": 6,
   "metadata": {
    "collapsed": true
   },
   "outputs": [],
   "source": [
    "final_data = pd.read_csv(r\"librarydata/rename.csv\", encoding='utf-8',index_col=0)"
   ]
  },
  {
   "cell_type": "code",
   "execution_count": 7,
   "metadata": {
    "collapsed": true
   },
   "outputs": [],
   "source": [
    "user_item = pd.read_csv(r\"librarydata/user_item_rename.csv\", encoding='utf-8',index_col=0)"
   ]
  },
  {
   "cell_type": "code",
   "execution_count": null,
   "metadata": {
    "collapsed": false
   },
   "outputs": [],
   "source": [
    "# user_item.to_csv(r\"librarydata/user_item_rename.csv\", encoding='utf-8')"
   ]
  },
  {
   "cell_type": "code",
   "execution_count": 83,
   "metadata": {
    "collapsed": true
   },
   "outputs": [],
   "source": [
    "def sort_key(obj):\n",
    "    return obj[1]"
   ]
  },
  {
   "cell_type": "code",
   "execution_count": 96,
   "metadata": {
    "collapsed": false
   },
   "outputs": [
    {
     "name": "stdout",
     "output_type": "stream",
     "text": [
      "user index: 6050\n",
      "[201, 2185, 2406, 2429, 2502, 2839]\n",
      "[201, 2185, 2406]\n",
      "[(0, 100), (0, 100), (0, 100)]\n",
      "[(2429, 0.4728294497587823), (2502, 0.05434425717667209), (2406, 0.32223715108637885)]\n"
     ]
    }
   ],
   "source": [
    "rand_book = np.random.randint(low=0, high=12499)\n",
    "print(\"user index:\", user_item[\"name\"][rand_book])\n",
    "\n",
    "book_nearest = 3\n",
    "recommd_user_prev = algo_knn.get_neighbors(rand_book, k=book_nearest)\n",
    "recommd_user = relation_avg(rand_book,k=book_nearest)"
   ]
  },
  {
   "cell_type": "code",
   "execution_count": 97,
   "metadata": {
    "collapsed": false
   },
   "outputs": [
    {
     "name": "stdout",
     "output_type": "stream",
     "text": [
      "{22272, 43011, 18948, 41479, 17799, 17928, 45708, 49037, 31891, 26260, 38174, 14626, 52899, 14004, 45885, 17988, 17350, 46541, 26958, 31187, 42074, 44251, 44772, 26469, 37478, 14058, 14189, 16373, 41210, 37756, 37757}\n",
      "[(45885, 4.562766757503033), (14189, 4.547056507086998), (17799, 4.543074186759827), (41479, 4.4146191634806975), (14058, 4.331248205456011), (42074, 4.265029651949664), (16373, 4.247951687665131), (44251, 4.23576679135882), (37478, 3.7641245757776347), (26260, 3.3922456003400203)]\n",
      "《英语短篇小说精选读本》\n",
      "《全国计算机等级考试考点解析与上机辅导.二级C程序设计》\n",
      "《呼啸山庄》\n",
      "《程序设计基础(C语言)》\n",
      "《全国计算机等级考试冲刺指南.二级C语言程序设计:2007-第2版》\n",
      "《管理学原理》\n",
      "《单片机认识与实践》\n",
      "《老大》\n",
      "《狼巢》\n",
      "《微机原理与接口技术复习考试指南》\n"
     ]
    }
   ],
   "source": [
    "# print(recommd_user)\n",
    "# for i in recommend_user:\n",
    "#     print(\"《{}》\".format(book_count[\"bookname\"][i],sep=\" \"))\n",
    "recommd_book = set()\n",
    "for i in recommd_user:\n",
    "    books = set(eval(user_item[\"bookname\"][i]))\n",
    "#     print(books)\n",
    "    for book in books:\n",
    "        recommd_book.add(book)\n",
    "#         print(\"《{}》\".format(book_count[\"bookname\"][book], sep=\" \"))\n",
    "print(recommd_book)\n",
    "\n",
    "score_rank = set()\n",
    "# print(recommd_book)\n",
    "for i in recommd_book:\n",
    "    uid=rand_book\n",
    "    iid=i\n",
    "    pred = algo.predict(uid, iid, verbose=False)\n",
    "    score_rank.add((pred.iid,pred.est))\n",
    "score_rank = list(score_rank)\n",
    "score_rank.sort(key=sort_key,reverse=True)\n",
    "\n",
    "print(score_rank[:10])\n",
    "if len(score_rank)>10:\n",
    "    for i in score_rank[:10]:\n",
    "        print(\"《{}》\".format(book_count[\"bookname\"][i[0]]))\n",
    "else:\n",
    "    for i in score_rank:\n",
    "        print(\"《{}》\".format(book_count[\"bookname\"][i[0]]))"
   ]
  },
  {
   "cell_type": "code",
   "execution_count": 98,
   "metadata": {
    "collapsed": false
   },
   "outputs": [
    {
     "name": "stdout",
     "output_type": "stream",
     "text": [
      "{25985, 24707, 43268, 1285, 10246, 18948, 17799, 25481, 14730, 26763, 17928, 24589, 45708, 49037, 31891, 26260, 20629, 25498, 25501, 31521, 52002, 52899, 20004, 23460, 31525, 3236, 45477, 12455, 45866, 30764, 11055, 32433, 24755, 14004, 32437, 43959, 41210, 45885, 18110, 12225, 20164, 40261, 25542, 17988, 17350, 38477, 46541, 31187, 11222, 19159, 45018, 28636, 25823, 25824, 12257, 33512, 11625, 5226, 11627, 14058, 33901, 33902, 1391, 1392, 34927, 2287, 14189, 16373, 22392, 30201, 3706, 19195, 37756, 37757}\n",
      "[(52002, 4.757045467598586), (45885, 4.562766757503033), (14189, 4.547056507086998), (17799, 4.543074186759827), (38477, 4.534306952639359), (14058, 4.331248205456011), (16373, 4.247951687665131), (26260, 3.3922456003400203), (45866, 2.826438662502469), (17350, 2.8201864072866005)]\n",
      "《飘》\n",
      "《英语短篇小说精选读本》\n",
      "《全国计算机等级考试考点解析与上机辅导.二级C程序设计》\n",
      "《呼啸山庄》\n",
      "《瓦尔登湖》\n",
      "《全国计算机等级考试冲刺指南.二级C语言程序设计:2007-第2版》\n",
      "《单片机认识与实践》\n",
      "《微机原理与接口技术复习考试指南》\n",
      "《英语演讲作文》\n",
      "《史记》\n"
     ]
    }
   ],
   "source": [
    "# for i in this_user:\n",
    "#     print(\"《{}》\".format(book_count[\"bookname\"][i],sep=\" \"))\n",
    "recommd_book_prev = set()\n",
    "# print()\n",
    "for i in recommd_user_prev:\n",
    "    books = set(eval(user_item[\"bookname\"][i]))\n",
    "#     print(books)\n",
    "    for book in books:\n",
    "        recommd_book_prev.add(book)\n",
    "#         print(\"《{}》\".format(book_count[\"bookname\"][book], sep=\" \"))\n",
    "#     print()\n",
    "print(recommd_book_prev)\n",
    "score_rank_prev = set()\n",
    "for i in recommd_book_prev:\n",
    "    uid=rand_book\n",
    "    iid=i\n",
    "    pred = algo.predict(uid, iid, verbose=False)\n",
    "    score_rank_prev.add((pred.iid,pred.est))\n",
    "score_rank_prev = list(score_rank_prev)\n",
    "score_rank_prev.sort(key=sort_key,reverse=True)\n",
    "print(score_rank_prev[:10])\n",
    "if len(score_rank_prev)>10:\n",
    "    for i in score_rank_prev[:10]:\n",
    "        print(\"《{}》\".format(book_count[\"bookname\"][i[0]]))\n",
    "else:\n",
    "    for i in score_rank_prev:\n",
    "        print(\"《{}》\".format(book_count[\"bookname\"][i[0]]))"
   ]
  },
  {
   "cell_type": "code",
   "execution_count": 113,
   "metadata": {
    "collapsed": false
   },
   "outputs": [
    {
     "name": "stdout",
     "output_type": "stream",
     "text": [
      "[(52002, 4.757045467598586), (45885, 4.562766757503033), (14189, 4.547056507086998), (17799, 4.543074186759827), (38477, 4.534306952639359), (41479, 4.4146191634806975), (14058, 4.331248205456011), (42074, 4.265029651949664), (16373, 4.247951687665131), (44251, 4.23576679135882)]\n",
      "《飘》\n",
      "《英语短篇小说精选读本》\n",
      "《全国计算机等级考试考点解析与上机辅导.二级C程序设计》\n",
      "《呼啸山庄》\n",
      "《瓦尔登湖》\n",
      "《程序设计基础(C语言)》\n",
      "《全国计算机等级考试冲刺指南.二级C语言程序设计:2007-第2版》\n",
      "《管理学原理》\n",
      "《单片机认识与实践》\n",
      "《老大》\n"
     ]
    }
   ],
   "source": [
    "x1 = list(score_rank)\n",
    "x2 = list(score_rank_prev)\n",
    "x1.extend(x2)\n",
    "x = list(set(x1))\n",
    "x.sort(key=sort_key,reverse=True)\n",
    "print(x[:10])\n",
    "\n",
    "if len(x)>10:\n",
    "    for i in x[:10]:\n",
    "        print(\"《{}》\".format(book_count[\"bookname\"][i[0]]))\n",
    "else:\n",
    "    for i in x:\n",
    "        print(\"《{}》\".format(book_count[\"bookname\"][i[0]]))"
   ]
  },
  {
   "cell_type": "code",
   "execution_count": 109,
   "metadata": {
    "collapsed": false
   },
   "outputs": [],
   "source": []
  }
 ],
 "metadata": {
  "anaconda-cloud": {},
  "kernelspec": {
   "display_name": "Python [conda env:Anaconda3]",
   "language": "python",
   "name": "conda-env-Anaconda3-py"
  },
  "language_info": {
   "codemirror_mode": {
    "name": "ipython",
    "version": 3
   },
   "file_extension": ".py",
   "mimetype": "text/x-python",
   "name": "python",
   "nbconvert_exporter": "python",
   "pygments_lexer": "ipython3",
   "version": "3.5.2"
  }
 },
 "nbformat": 4,
 "nbformat_minor": 0
}
