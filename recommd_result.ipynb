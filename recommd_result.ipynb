{
 "cells": [
  {
   "cell_type": "code",
   "execution_count": 1,
   "metadata": {
    "collapsed": false
   },
   "outputs": [],
   "source": [
    "import numpy as np\n",
    "import pandas as pd\n",
    "\n",
    "from surprise import NormalPredictor\n",
    "from surprise import Dataset\n",
    "from surprise import Reader\n",
    "from surprise.model_selection import cross_validate\n",
    "from surprise.model_selection import train_test_split\n",
    "from surprise import SVD, KNNWithZScore, KNNBasic\n",
    "from surprise import Dataset\n",
    "from surprise import accuracy\n",
    "from surprise import dump\n",
    "import matplotlib.pyplot as plt\n",
    "import matplotlib"
   ]
  },
  {
   "cell_type": "code",
   "execution_count": 2,
   "metadata": {
    "collapsed": true
   },
   "outputs": [],
   "source": [
    "predictions, algo = dump.load(r\"C:\\Users\\LT\\Documents\\librarydata\\model.md\")"
   ]
  },
  {
   "cell_type": "code",
   "execution_count": 3,
   "metadata": {
    "collapsed": true
   },
   "outputs": [],
   "source": [
    "predictions_knn, algo_knn = dump.load(r\"C:\\Users\\LT\\Documents\\librarydata\\model_knn.md\")"
   ]
  },
  {
   "cell_type": "code",
   "execution_count": 4,
   "metadata": {
    "collapsed": true
   },
   "outputs": [],
   "source": [
    "book_count = pd.read_csv(r\"C:\\Users\\LT\\Documents\\librarydata\\book_count.csv\", encoding='utf-8', index_col=0)"
   ]
  },
  {
   "cell_type": "code",
   "execution_count": 5,
   "metadata": {
    "collapsed": true
   },
   "outputs": [],
   "source": [
    "final_data = pd.read_csv(r\"C:/Users/LT/Documents/librarydata/rename.csv\", encoding='utf-8',index_col=0)"
   ]
  },
  {
   "cell_type": "code",
   "execution_count": 6,
   "metadata": {
    "collapsed": true
   },
   "outputs": [],
   "source": [
    "user_item = pd.read_csv(r\"C:/Users/LT/Documents/librarydata/user_item_rename.csv\", encoding='utf-8',index_col=0)"
   ]
  },
  {
   "cell_type": "code",
   "execution_count": 8,
   "metadata": {
    "collapsed": false
   },
   "outputs": [],
   "source": [
    "user_item.to_csv(r\"C:/Users/LT/Documents/librarydata/user_item_rename.csv\", encoding='utf-8')"
   ]
  },
  {
   "cell_type": "code",
   "execution_count": 15,
   "metadata": {
    "collapsed": false
   },
   "outputs": [
    {
     "name": "stdout",
     "output_type": "stream",
     "text": [
      "10604\n"
     ]
    }
   ],
   "source": [
    "rand_book = np.random.randint(low=0, high=12499)\n",
    "print(user_item[\"name\"][rand_book])\n",
    "\n",
    "book_nearest = 3\n",
    "recommd_user = algo_knn.get_neighbors(8198, k=book_nearest)"
   ]
  },
  {
   "cell_type": "code",
   "execution_count": 16,
   "metadata": {
    "collapsed": false
   },
   "outputs": [
    {
     "name": "stdout",
     "output_type": "stream",
     "text": [
      "{27074, 27075, 20610, 16357, 15482, 34311, 20612, 16234, 2064, 16304, 39507, 3032, 2937, 33018, 15483, 2938, 25983}\n",
      "《情人箭.上》\n",
      "《情人箭.下》\n",
      "《大学生心理健康》\n",
      "《单片机的C语言应用程序设计-第3版》\n",
      "《剑毒梅香.上》\n",
      "《欢乐英雄.下》\n",
      "《大学生心理健康:走向和谐与适应》\n",
      "《单片机原理与应用技术》\n",
      "《AutoCAD 2007机械绘图实战从入门到精通》\n",
      "《单片机应用实例开发》\n",
      "《电工技术（电工学Ⅰ）常见题型解析及模拟题》\n",
      "《C语言程序设计教程》\n",
      "《C语言复习指南与题解》\n",
      "《机械设计》\n",
      "《剑毒梅香.下》\n",
      "《C语言大学实用教程》\n",
      "《彩环曲》\n",
      "\n",
      "{33986, 31523, 26402, 50469, 33995, 19534, 33968, 37783, 31579}\n",
      "《概率论与数理统计习题全解》\n",
      "《昆虫记》\n",
      "《微观经济学全程学习指导》\n",
      "《金银岛》\n",
      "《概率论与数理统计习题课教程》\n",
      "《培养男子汉:一部塑造优秀男人的教育书》\n",
      "《概率论与数理统计(经管类)习题详解:附: 概率论与数理统计(经管类)自学考试大纲》\n",
      "《现代企业管理:变革的观点-增补版》\n",
      "《明茨伯格论管理》\n",
      "\n",
      "{2689, 50049, 2723, 2724, 6457, 41704, 4464, 2713, 2328, 4729, 2714, 2718}\n",
      "《CCIE实验指南:第2卷》\n",
      "《部署IPv6网络》\n",
      "《CCSP SECUR认证考试指南》\n",
      "《CCSP自学指南.Cisco安全PIX防火墙(CSPFA)》\n",
      "《TCP/IP路由技术.第二卷.Volume II》\n",
      "《端到端QoS网络设计》\n",
      "《Linux操作系统实验教程》\n",
      "《CCNP ISCW认证考试指南》\n",
      "《BGP设计与实现》\n",
      "《MPLS和VPN体系结构.第2卷》\n",
      "《CCNP ONT认证考试指南》\n",
      "《CCNP学习指南.组建Cisco多层交换网络(BCMSN).Building Cisco multilayer switched networks (BCMSN)》\n",
      "\n",
      "{20800, 8259, 22470, 45673, 21301, 20790, 20791, 26749}\n",
      "《大学英语六级最新题型应试亮剑.阅读理解》\n",
      "《一本万利六级通》\n",
      "《宋元明清短篇白话小说选》\n",
      "《英语六级考试突破.写作、完形填空、改错分册》\n",
      "《大宋提刑官宋慈断案:电视剧中所没有的\"宋青天\"断案神典》\n",
      "《大学英语六级完全解读手册.词汇·语法分册》\n",
      "《大学英语六级完全解读手册.阅读理解·翻译分册》\n",
      "《快速突破大学英语六级考试词汇5500.1-6级》\n",
      "\n"
     ]
    }
   ],
   "source": [
    "this_user = set(eval(user_item[\"bookname\"][8198]))\n",
    "print(this_user)\n",
    "for i in this_user:\n",
    "    print(\"《{}》\".format(book_count[\"bookname\"][i],sep=\" \"))\n",
    "recommd_book = set()\n",
    "print()\n",
    "for i in recommd_user:\n",
    "    books = set(eval(user_item[\"bookname\"][i]))\n",
    "    print(books)\n",
    "    for book in books:\n",
    "        recommd_book.add(book)\n",
    "        print(\"《{}》\".format(book_count[\"bookname\"][book], sep=\" \"))\n",
    "    print()"
   ]
  },
  {
   "cell_type": "code",
   "execution_count": 17,
   "metadata": {
    "collapsed": true
   },
   "outputs": [],
   "source": [
    "def sort_key(obj):\n",
    "    return obj[1]"
   ]
  },
  {
   "cell_type": "code",
   "execution_count": 18,
   "metadata": {
    "collapsed": false
   },
   "outputs": [
    {
     "name": "stdout",
     "output_type": "stream",
     "text": [
      "user: 10604      item: 2689       r_ui = None   est = 1.99   {'was_impossible': False}\n",
      "user: 10604      item: 50049      r_ui = None   est = 2.06   {'was_impossible': False}\n",
      "user: 10604      item: 37783      r_ui = None   est = 2.25   {'was_impossible': False}\n",
      "user: 10604      item: 2328       r_ui = None   est = 2.01   {'was_impossible': False}\n",
      "user: 10604      item: 2713       r_ui = None   est = 2.38   {'was_impossible': False}\n",
      "user: 10604      item: 2714       r_ui = None   est = 2.08   {'was_impossible': False}\n",
      "user: 10604      item: 2718       r_ui = None   est = 1.85   {'was_impossible': False}\n",
      "user: 10604      item: 26402      r_ui = None   est = 2.01   {'was_impossible': False}\n",
      "user: 10604      item: 31523      r_ui = None   est = 2.28   {'was_impossible': False}\n",
      "user: 10604      item: 2723       r_ui = None   est = 2.41   {'was_impossible': False}\n",
      "user: 10604      item: 50469      r_ui = None   est = 2.75   {'was_impossible': False}\n",
      "user: 10604      item: 2724       r_ui = None   est = 2.12   {'was_impossible': False}\n",
      "user: 10604      item: 33968      r_ui = None   est = 4.04   {'was_impossible': False}\n",
      "user: 10604      item: 21301      r_ui = None   est = 2.25   {'was_impossible': False}\n",
      "user: 10604      item: 20790      r_ui = None   est = 2.20   {'was_impossible': False}\n",
      "user: 10604      item: 20791      r_ui = None   est = 2.22   {'was_impossible': False}\n",
      "user: 10604      item: 6457       r_ui = None   est = 1.99   {'was_impossible': False}\n",
      "user: 10604      item: 20800      r_ui = None   est = 2.37   {'was_impossible': False}\n",
      "user: 10604      item: 33986      r_ui = None   est = 4.02   {'was_impossible': False}\n",
      "user: 10604      item: 8259       r_ui = None   est = 4.05   {'was_impossible': False}\n",
      "user: 10604      item: 22470      r_ui = None   est = 2.18   {'was_impossible': False}\n",
      "user: 10604      item: 33995      r_ui = None   est = 4.15   {'was_impossible': False}\n",
      "user: 10604      item: 19534      r_ui = None   est = 1.93   {'was_impossible': False}\n",
      "user: 10604      item: 31579      r_ui = None   est = 2.25   {'was_impossible': False}\n",
      "user: 10604      item: 41704      r_ui = None   est = 2.06   {'was_impossible': False}\n",
      "user: 10604      item: 45673      r_ui = None   est = 1.98   {'was_impossible': False}\n",
      "user: 10604      item: 4464       r_ui = None   est = 2.03   {'was_impossible': False}\n",
      "user: 10604      item: 4729       r_ui = None   est = 2.22   {'was_impossible': False}\n",
      "user: 10604      item: 26749      r_ui = None   est = 1.96   {'was_impossible': False}\n"
     ]
    }
   ],
   "source": [
    "score_rank = set()\n",
    "for i in recommd_book:\n",
    "    uid=rand_book\n",
    "    iid=i\n",
    "    pred = algo.predict(uid, iid, verbose=True)\n",
    "    score_rank.add((pred.iid,pred.est))\n",
    "score_rank = list(score_rank)\n",
    "score_rank.sort(key=sort_key,reverse=True)"
   ]
  },
  {
   "cell_type": "code",
   "execution_count": 19,
   "metadata": {
    "collapsed": false,
    "scrolled": true
   },
   "outputs": [
    {
     "name": "stdout",
     "output_type": "stream",
     "text": [
      "[(33995, 4.1540640480509765), (8259, 4.045896320705905), (33968, 4.035811642242556), (33986, 4.0198045409987655), (50469, 2.7451246836740264), (2723, 2.4083213838667445), (2713, 2.377332060058767), (20800, 2.3660401175073638), (31523, 2.284534939982643), (21301, 2.252885631257044)]\n",
      "《概率论与数理统计习题课教程》\n",
      "《一本万利六级通》\n",
      "《概率论与数理统计(经管类)习题详解:附: 概率论与数理统计(经管类)自学考试大纲》\n",
      "《概率论与数理统计习题全解》\n",
      "《金银岛》\n",
      "《CCSP SECUR认证考试指南》\n",
      "《CCNP ISCW认证考试指南》\n",
      "《大学英语六级最新题型应试亮剑.阅读理解》\n",
      "《昆虫记》\n",
      "《大宋提刑官宋慈断案:电视剧中所没有的\"宋青天\"断案神典》\n"
     ]
    }
   ],
   "source": [
    "print(score_rank[:10])\n",
    "if len(score_rank)>10:\n",
    "    for i in score_rank[:10]:\n",
    "        print(\"《{}》\".format(book_count[\"bookname\"][i[0]]))\n",
    "else:\n",
    "    for i in score_rank:\n",
    "        print(\"《{}》\".format(book_count[\"bookname\"][i[0]]))"
   ]
  },
  {
   "cell_type": "code",
   "execution_count": null,
   "metadata": {
    "collapsed": true
   },
   "outputs": [],
   "source": []
  },
  {
   "cell_type": "code",
   "execution_count": null,
   "metadata": {
    "collapsed": true
   },
   "outputs": [],
   "source": []
  }
 ],
 "metadata": {
  "anaconda-cloud": {},
  "kernelspec": {
   "display_name": "Python [conda env:Anaconda3]",
   "language": "python",
   "name": "conda-env-Anaconda3-py"
  },
  "language_info": {
   "codemirror_mode": {
    "name": "ipython",
    "version": 3
   },
   "file_extension": ".py",
   "mimetype": "text/x-python",
   "name": "python",
   "nbconvert_exporter": "python",
   "pygments_lexer": "ipython3",
   "version": "3.5.2"
  }
 },
 "nbformat": 4,
 "nbformat_minor": 0
}
